{
  "nbformat": 4,
  "nbformat_minor": 0,
  "metadata": {
    "colab": {
      "provenance": [],
      "authorship_tag": "ABX9TyNrQZHaxsFnKe4Qg8NsqVgP",
      "include_colab_link": true
    },
    "kernelspec": {
      "name": "python3",
      "display_name": "Python 3"
    },
    "language_info": {
      "name": "python"
    }
  },
  "cells": [
    {
      "cell_type": "markdown",
      "metadata": {
        "id": "view-in-github",
        "colab_type": "text"
      },
      "source": [
        "<a href=\"https://colab.research.google.com/github/Vidhi1338/BuildHer-Interview-Questions/blob/main/BuildHer_Interview_Questions.ipynb\" target=\"_parent\"><img src=\"https://colab.research.google.com/assets/colab-badge.svg\" alt=\"Open In Colab\"/></a>"
      ]
    },
    {
      "cell_type": "markdown",
      "source": [
        "## **BuildHer Interview Questions**"
      ],
      "metadata": {
        "id": "frTHmulTStkO"
      }
    },
    {
      "cell_type": "markdown",
      "source": [
        "Easy 1: Given a string s consisting of words and spaces, return the length of the last word in the\n",
        "string"
      ],
      "metadata": {
        "id": "uKymiwpSS1RY"
      }
    },
    {
      "cell_type": "code",
      "source": [
        "def lengthOfLastWord(s):\n",
        "    n = len(s)\n",
        "    i = n - 1\n",
        "    curr_len = 0\n",
        "    while (i >= 0):\n",
        "        if (s[i] == ' '):\n",
        "            if (curr_len != 0):\n",
        "                return curr_len\n",
        "            curr_len = 0\n",
        "        else:\n",
        "            curr_len += 1\n",
        "        i -= 1\n",
        "    return curr_len\n",
        "s = input()\n",
        "print(lengthOfLastWord(s))"
      ],
      "metadata": {
        "id": "hBD5Ul9US8-m"
      },
      "execution_count": null,
      "outputs": []
    },
    {
      "cell_type": "markdown",
      "source": [
        "Medium 2: Given an integer array of size n, find all elements that appear more than ⌊ n/3 ⌋ times."
      ],
      "metadata": {
        "id": "wJ7doLo9TPSH"
      }
    },
    {
      "cell_type": "code",
      "source": [
        "import collections\n",
        "\n",
        "def majorityElement(nums):\n",
        "    counts = collections.Counter(nums)\n",
        "    threshold = len(nums) // 3\n",
        "    result = []\n",
        "    for num, count in counts.items():\n",
        "        if count > threshold:\n",
        "            result.append(num)\n",
        "    return result\n",
        "\n",
        "nums = list(map(int,input().strip().split()))\n",
        "\n",
        "print(majorityElement(nums))"
      ],
      "metadata": {
        "id": "vC4STAhYTQT4"
      },
      "execution_count": null,
      "outputs": []
    },
    {
      "cell_type": "markdown",
      "source": [
        "Hard 2:\n",
        "You are given a string s. You can convert s to a\n",
        "palindrome by adding characters in front of it.\n",
        "Return the shortest palindrome you can find by performing this\n",
        "transformation."
      ],
      "metadata": {
        "id": "ve86N2zJTmoa"
      }
    },
    {
      "cell_type": "code",
      "source": [
        "def shortest_palindrome(s):\n",
        "    n = len(s)\n",
        "\n",
        "    def is_palindrome(sub):\n",
        "        return sub == sub[::-1]\n",
        "\n",
        "    for i in range(n - 1, -1, -1):\n",
        "        if is_palindrome(s[:i + 1]):\n",
        "            break\n",
        "\n",
        "    return s[i + 1:][::-1] + s\n",
        "\n",
        "s1 = input()\n",
        "print(shortest_palindrome(s1))"
      ],
      "metadata": {
        "id": "x-hHyj-uTuc2"
      },
      "execution_count": null,
      "outputs": []
    }
  ]
}